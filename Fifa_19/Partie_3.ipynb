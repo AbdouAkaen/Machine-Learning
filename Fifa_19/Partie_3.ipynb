{
 "cells": [
  {
   "cell_type": "markdown",
   "metadata": {},
   "source": [
    "# Partie 3"
   ]
  },
  {
   "cell_type": "code",
   "execution_count": 1,
   "metadata": {},
   "outputs": [],
   "source": [
    "import numpy as np\n",
    "import pandas as pd\n",
    "import matplotlib.pyplot as plt\n",
    "import seaborn as sns\n",
    "from sklearn.preprocessing import StandardScaler, MinMaxScaler, PolynomialFeatures\n",
    "from sklearn.feature_selection import SelectFromModel\n",
    "from sklearn.decomposition import PCA\n",
    "from sklearn.cluster import KMeans\n",
    "from scipy.cluster.vq import kmeans\n",
    "from sklearn.model_selection import train_test_split,cross_val_score\n",
    "from sklearn.linear_model import LinearRegression, LogisticRegression, Ridge, Lasso, RidgeCV, LassoCV,LogisticRegressionCV\n",
    "from sklearn.metrics import classification_report\n",
    "from sklearn import metrics\n",
    "from sklearn.pipeline import Pipeline\n"
   ]
  },
  {
   "cell_type": "code",
   "execution_count": 2,
   "metadata": {},
   "outputs": [],
   "source": [
    "df = pd.read_csv('dataframe-partie1_2.csv')\n",
    "original_df =  pd.read_csv('data.csv')"
   ]
  },
  {
   "cell_type": "code",
   "execution_count": 3,
   "metadata": {},
   "outputs": [],
   "source": [
    "\n",
    "\n",
    "bins = pd.IntervalIndex.from_tuples(\n",
    "    [(min(df[\"Value\"])-1, 300000), (300000,600000), (600000,2000000), (2000000, max(df[\"Value\"])+1)])\n",
    "df[\"DValue\"] = pd.cut(df[\"Value\"], bins)\n",
    "\n",
    "bins = pd.IntervalIndex.from_tuples(\n",
    "    [(min(df[\"Wage\"])-1, 15000), (15000, 90000), (90000, max(df[\"Wage\"])+1)])\n",
    "df[\"DWage\"] = pd.cut(df[\"Wage\"], bins)\n"
   ]
  },
  {
   "cell_type": "code",
   "execution_count": 4,
   "metadata": {},
   "outputs": [
    {
     "name": "stderr",
     "output_type": "stream",
     "text": [
      "/home/akaen/.local/lib/python3.8/site-packages/seaborn/_decorators.py:36: FutureWarning: Pass the following variable as a keyword arg: x. From version 0.12, the only valid positional argument will be `data`, and passing other arguments without an explicit keyword will result in an error or misinterpretation.\n",
      "  warnings.warn(\n"
     ]
    },
    {
     "data": {
      "text/plain": [
       "<AxesSubplot:xlabel='DValue', ylabel='count'>"
      ]
     },
     "execution_count": 4,
     "metadata": {},
     "output_type": "execute_result"
    },
    {
     "data": {
      "image/png": "[encoded data removed]",
      "text/plain": [
       "<Figure size 720x360 with 1 Axes>"
      ]
     },
     "metadata": {
      "needs_background": "light"
     },
     "output_type": "display_data"
    }
   ],
   "source": [
    "plt.figure(figsize=(10, 5))\n",
    "sns.countplot(df[\"DValue\"], color=\"darkred\")\n"
   ]
  },
  {
   "cell_type": "code",
   "execution_count": 5,
   "metadata": {},
   "outputs": [
    {
     "data": {
      "text/plain": [
       "<AxesSubplot:xlabel='DWage', ylabel='count'>"
      ]
     },
     "execution_count": 5,
     "metadata": {},
     "output_type": "execute_result"
    },
    {
     "data": {
      "image/png": "[encoded data removed]",
      "text/plain": [
       "<Figure size 720x360 with 1 Axes>"
      ]
     },
     "metadata": {
      "needs_background": "light"
     },
     "output_type": "display_data"
    }
   ],
   "source": [
    "plt.figure(figsize=(10, 5))\n",
    "sns.countplot(df[\"DWage\"], color=\"darkred\")\n"
   ]
  },
  {
   "cell_type": "code",
   "execution_count": 6,
   "metadata": {},
   "outputs": [],
   "source": [
    "df_tmp = df[['Overall', 'Potential', 'Special', 'International Reputation', 'Weak Foot',\n",
    "        'Skill Moves', 'Height', 'Weight', 'Crossing', 'Finishing', 'HeadingAccuracy',\n",
    "        'ShortPassing', 'Volleys', 'Dribbling', 'Curve', 'FKAccuracy', 'LongPassing',\n",
    "        'BallControl', 'Acceleration', 'Agility', 'Reactions', 'Balance',\n",
    "        'ShotPower', 'Jumping', 'Stamina', 'Strength', 'LongShots', 'LS', 'LDM',\n",
    "        'Aggression', 'Interceptions', 'Positioning', 'Vision', 'Penalties', 'BMI',\n",
    "        'Composure', 'StandingTackle', 'GKDiving']].copy()\n",
    "\n",
    "new_DF_DW = df_tmp\n",
    "new_DF_DV = df_tmp\n",
    "\n",
    "labels_dwage = df['DWage'].astype('category').cat.codes\n",
    "labels_dvalue = df['DValue'].astype('category').cat.codes\n",
    "age_categories = df['Age'].astype('category').cat.codes\n",
    "position_categories = df['Position'].astype('category').cat.codes\n"
   ]
  },
  {
   "cell_type": "code",
   "execution_count": 7,
   "metadata": {},
   "outputs": [
    {
     "data": {
      "text/html": [
       "<div>\n",
       "<style scoped>\n",
       "    .dataframe tbody tr th:only-of-type {\n",
       "        vertical-align: middle;\n",
       "    }\n",
       "\n",
       "    .dataframe tbody tr th {\n",
       "        vertical-align: top;\n",
       "    }\n",
       "\n",
       "    .dataframe thead th {\n",
       "        text-align: right;\n",
       "    }\n",
       "</style>\n",
       "<table border=\"1\" class=\"dataframe\">\n",
       "  <thead>\n",
       "    <tr style=\"text-align: right;\">\n",
       "      <th></th>\n",
       "      <th>Overall</th>\n",
       "      <th>Potential</th>\n",
       "      <th>Special</th>\n",
       "      <th>International Reputation</th>\n",
       "      <th>Weak Foot</th>\n",
       "      <th>Skill Moves</th>\n",
       "      <th>Height</th>\n",
       "      <th>Weight</th>\n",
       "      <th>Crossing</th>\n",
       "      <th>Finishing</th>\n",
       "      <th>...</th>\n",
       "      <th>Vision</th>\n",
       "      <th>Penalties</th>\n",
       "      <th>BMI</th>\n",
       "      <th>Composure</th>\n",
       "      <th>StandingTackle</th>\n",
       "      <th>GKDiving</th>\n",
       "      <th>Age</th>\n",
       "      <th>Position</th>\n",
       "      <th>DValue</th>\n",
       "      <th>DWage</th>\n",
       "    </tr>\n",
       "  </thead>\n",
       "  <tbody>\n",
       "    <tr>\n",
       "      <th>0</th>\n",
       "      <td>94</td>\n",
       "      <td>94</td>\n",
       "      <td>2202</td>\n",
       "      <td>5.0</td>\n",
       "      <td>4.0</td>\n",
       "      <td>4.0</td>\n",
       "      <td>1.7018</td>\n",
       "      <td>72.108844</td>\n",
       "      <td>84.0</td>\n",
       "      <td>95.0</td>\n",
       "      <td>...</td>\n",
       "      <td>94.0</td>\n",
       "      <td>75.0</td>\n",
       "      <td>24.898403</td>\n",
       "      <td>96.0</td>\n",
       "      <td>28.0</td>\n",
       "      <td>6.0</td>\n",
       "      <td>3</td>\n",
       "      <td>1</td>\n",
       "      <td>3</td>\n",
       "      <td>2</td>\n",
       "    </tr>\n",
       "    <tr>\n",
       "      <th>1</th>\n",
       "      <td>94</td>\n",
       "      <td>94</td>\n",
       "      <td>2228</td>\n",
       "      <td>5.0</td>\n",
       "      <td>4.0</td>\n",
       "      <td>5.0</td>\n",
       "      <td>1.8796</td>\n",
       "      <td>82.993197</td>\n",
       "      <td>84.0</td>\n",
       "      <td>94.0</td>\n",
       "      <td>...</td>\n",
       "      <td>82.0</td>\n",
       "      <td>85.0</td>\n",
       "      <td>23.491547</td>\n",
       "      <td>95.0</td>\n",
       "      <td>31.0</td>\n",
       "      <td>7.0</td>\n",
       "      <td>3</td>\n",
       "      <td>1</td>\n",
       "      <td>3</td>\n",
       "      <td>2</td>\n",
       "    </tr>\n",
       "    <tr>\n",
       "      <th>2</th>\n",
       "      <td>92</td>\n",
       "      <td>93</td>\n",
       "      <td>2143</td>\n",
       "      <td>5.0</td>\n",
       "      <td>5.0</td>\n",
       "      <td>5.0</td>\n",
       "      <td>1.7526</td>\n",
       "      <td>68.027211</td>\n",
       "      <td>79.0</td>\n",
       "      <td>87.0</td>\n",
       "      <td>...</td>\n",
       "      <td>87.0</td>\n",
       "      <td>81.0</td>\n",
       "      <td>22.147109</td>\n",
       "      <td>94.0</td>\n",
       "      <td>24.0</td>\n",
       "      <td>9.0</td>\n",
       "      <td>2</td>\n",
       "      <td>1</td>\n",
       "      <td>3</td>\n",
       "      <td>2</td>\n",
       "    </tr>\n",
       "    <tr>\n",
       "      <th>3</th>\n",
       "      <td>91</td>\n",
       "      <td>93</td>\n",
       "      <td>1471</td>\n",
       "      <td>4.0</td>\n",
       "      <td>3.0</td>\n",
       "      <td>1.0</td>\n",
       "      <td>1.9304</td>\n",
       "      <td>76.190476</td>\n",
       "      <td>17.0</td>\n",
       "      <td>13.0</td>\n",
       "      <td>...</td>\n",
       "      <td>68.0</td>\n",
       "      <td>40.0</td>\n",
       "      <td>20.445892</td>\n",
       "      <td>68.0</td>\n",
       "      <td>21.0</td>\n",
       "      <td>90.0</td>\n",
       "      <td>2</td>\n",
       "      <td>2</td>\n",
       "      <td>3</td>\n",
       "      <td>2</td>\n",
       "    </tr>\n",
       "    <tr>\n",
       "      <th>4</th>\n",
       "      <td>91</td>\n",
       "      <td>92</td>\n",
       "      <td>2281</td>\n",
       "      <td>4.0</td>\n",
       "      <td>5.0</td>\n",
       "      <td>4.0</td>\n",
       "      <td>1.8034</td>\n",
       "      <td>69.841270</td>\n",
       "      <td>93.0</td>\n",
       "      <td>82.0</td>\n",
       "      <td>...</td>\n",
       "      <td>94.0</td>\n",
       "      <td>79.0</td>\n",
       "      <td>21.474744</td>\n",
       "      <td>88.0</td>\n",
       "      <td>58.0</td>\n",
       "      <td>15.0</td>\n",
       "      <td>2</td>\n",
       "      <td>3</td>\n",
       "      <td>3</td>\n",
       "      <td>2</td>\n",
       "    </tr>\n",
       "    <tr>\n",
       "      <th>...</th>\n",
       "      <td>...</td>\n",
       "      <td>...</td>\n",
       "      <td>...</td>\n",
       "      <td>...</td>\n",
       "      <td>...</td>\n",
       "      <td>...</td>\n",
       "      <td>...</td>\n",
       "      <td>...</td>\n",
       "      <td>...</td>\n",
       "      <td>...</td>\n",
       "      <td>...</td>\n",
       "      <td>...</td>\n",
       "      <td>...</td>\n",
       "      <td>...</td>\n",
       "      <td>...</td>\n",
       "      <td>...</td>\n",
       "      <td>...</td>\n",
       "      <td>...</td>\n",
       "      <td>...</td>\n",
       "      <td>...</td>\n",
       "      <td>...</td>\n",
       "    </tr>\n",
       "    <tr>\n",
       "      <th>18202</th>\n",
       "      <td>47</td>\n",
       "      <td>65</td>\n",
       "      <td>1307</td>\n",
       "      <td>1.0</td>\n",
       "      <td>2.0</td>\n",
       "      <td>2.0</td>\n",
       "      <td>1.7526</td>\n",
       "      <td>60.770975</td>\n",
       "      <td>34.0</td>\n",
       "      <td>38.0</td>\n",
       "      <td>...</td>\n",
       "      <td>52.0</td>\n",
       "      <td>43.0</td>\n",
       "      <td>19.784751</td>\n",
       "      <td>45.0</td>\n",
       "      <td>48.0</td>\n",
       "      <td>10.0</td>\n",
       "      <td>0</td>\n",
       "      <td>3</td>\n",
       "      <td>0</td>\n",
       "      <td>0</td>\n",
       "    </tr>\n",
       "    <tr>\n",
       "      <th>18203</th>\n",
       "      <td>47</td>\n",
       "      <td>63</td>\n",
       "      <td>1098</td>\n",
       "      <td>1.0</td>\n",
       "      <td>2.0</td>\n",
       "      <td>2.0</td>\n",
       "      <td>1.9050</td>\n",
       "      <td>77.097506</td>\n",
       "      <td>23.0</td>\n",
       "      <td>52.0</td>\n",
       "      <td>...</td>\n",
       "      <td>33.0</td>\n",
       "      <td>43.0</td>\n",
       "      <td>21.244688</td>\n",
       "      <td>42.0</td>\n",
       "      <td>15.0</td>\n",
       "      <td>10.0</td>\n",
       "      <td>0</td>\n",
       "      <td>1</td>\n",
       "      <td>0</td>\n",
       "      <td>0</td>\n",
       "    </tr>\n",
       "    <tr>\n",
       "      <th>18204</th>\n",
       "      <td>47</td>\n",
       "      <td>67</td>\n",
       "      <td>1189</td>\n",
       "      <td>1.0</td>\n",
       "      <td>3.0</td>\n",
       "      <td>2.0</td>\n",
       "      <td>1.7272</td>\n",
       "      <td>67.120181</td>\n",
       "      <td>25.0</td>\n",
       "      <td>40.0</td>\n",
       "      <td>...</td>\n",
       "      <td>43.0</td>\n",
       "      <td>55.0</td>\n",
       "      <td>22.499241</td>\n",
       "      <td>41.0</td>\n",
       "      <td>13.0</td>\n",
       "      <td>6.0</td>\n",
       "      <td>0</td>\n",
       "      <td>1</td>\n",
       "      <td>0</td>\n",
       "      <td>0</td>\n",
       "    </tr>\n",
       "    <tr>\n",
       "      <th>18205</th>\n",
       "      <td>47</td>\n",
       "      <td>66</td>\n",
       "      <td>1228</td>\n",
       "      <td>1.0</td>\n",
       "      <td>3.0</td>\n",
       "      <td>2.0</td>\n",
       "      <td>1.7780</td>\n",
       "      <td>69.841270</td>\n",
       "      <td>44.0</td>\n",
       "      <td>50.0</td>\n",
       "      <td>...</td>\n",
       "      <td>47.0</td>\n",
       "      <td>50.0</td>\n",
       "      <td>22.092691</td>\n",
       "      <td>46.0</td>\n",
       "      <td>25.0</td>\n",
       "      <td>14.0</td>\n",
       "      <td>0</td>\n",
       "      <td>1</td>\n",
       "      <td>0</td>\n",
       "      <td>0</td>\n",
       "    </tr>\n",
       "    <tr>\n",
       "      <th>18206</th>\n",
       "      <td>46</td>\n",
       "      <td>66</td>\n",
       "      <td>1321</td>\n",
       "      <td>1.0</td>\n",
       "      <td>3.0</td>\n",
       "      <td>2.0</td>\n",
       "      <td>1.7780</td>\n",
       "      <td>79.818594</td>\n",
       "      <td>41.0</td>\n",
       "      <td>34.0</td>\n",
       "      <td>...</td>\n",
       "      <td>49.0</td>\n",
       "      <td>33.0</td>\n",
       "      <td>25.248789</td>\n",
       "      <td>43.0</td>\n",
       "      <td>43.0</td>\n",
       "      <td>10.0</td>\n",
       "      <td>0</td>\n",
       "      <td>3</td>\n",
       "      <td>0</td>\n",
       "      <td>0</td>\n",
       "    </tr>\n",
       "  </tbody>\n",
       "</table>\n",
       "<p>18207 rows × 42 columns</p>\n",
       "</div>"
      ],
      "text/plain": [
       "       Overall  Potential  Special  International Reputation  Weak Foot  \\\n",
       "0           94         94     2202                       5.0        4.0   \n",
       "1           94         94     2228                       5.0        4.0   \n",
       "2           92         93     2143                       5.0        5.0   \n",
       "3           91         93     1471                       4.0        3.0   \n",
       "4           91         92     2281                       4.0        5.0   \n",
       "...        ...        ...      ...                       ...        ...   \n",
       "18202       47         65     1307                       1.0        2.0   \n",
       "18203       47         63     1098                       1.0        2.0   \n",
       "18204       47         67     1189                       1.0        3.0   \n",
       "18205       47         66     1228                       1.0        3.0   \n",
       "18206       46         66     1321                       1.0        3.0   \n",
       "\n",
       "       Skill Moves  Height     Weight  Crossing  Finishing  ...  Vision  \\\n",
       "0              4.0  1.7018  72.108844      84.0       95.0  ...    94.0   \n",
       "1              5.0  1.8796  82.993197      84.0       94.0  ...    82.0   \n",
       "2              5.0  1.7526  68.027211      79.0       87.0  ...    87.0   \n",
       "3              1.0  1.9304  76.190476      17.0       13.0  ...    68.0   \n",
       "4              4.0  1.8034  69.841270      93.0       82.0  ...    94.0   \n",
       "...            ...     ...        ...       ...        ...  ...     ...   \n",
       "18202          2.0  1.7526  60.770975      34.0       38.0  ...    52.0   \n",
       "18203          2.0  1.9050  77.097506      23.0       52.0  ...    33.0   \n",
       "18204          2.0  1.7272  67.120181      25.0       40.0  ...    43.0   \n",
       "18205          2.0  1.7780  69.841270      44.0       50.0  ...    47.0   \n",
       "18206          2.0  1.7780  79.818594      41.0       34.0  ...    49.0   \n",
       "\n",
       "       Penalties        BMI  Composure  StandingTackle  GKDiving  Age  \\\n",
       "0           75.0  24.898403       96.0            28.0       6.0    3   \n",
       "1           85.0  23.491547       95.0            31.0       7.0    3   \n",
       "2           81.0  22.147109       94.0            24.0       9.0    2   \n",
       "3           40.0  20.445892       68.0            21.0      90.0    2   \n",
       "4           79.0  21.474744       88.0            58.0      15.0    2   \n",
       "...          ...        ...        ...             ...       ...  ...   \n",
       "18202       43.0  19.784751       45.0            48.0      10.0    0   \n",
       "18203       43.0  21.244688       42.0            15.0      10.0    0   \n",
       "18204       55.0  22.499241       41.0            13.0       6.0    0   \n",
       "18205       50.0  22.092691       46.0            25.0      14.0    0   \n",
       "18206       33.0  25.248789       43.0            43.0      10.0    0   \n",
       "\n",
       "       Position  DValue  DWage  \n",
       "0             1       3      2  \n",
       "1             1       3      2  \n",
       "2             1       3      2  \n",
       "3             2       3      2  \n",
       "4             3       3      2  \n",
       "...         ...     ...    ...  \n",
       "18202         3       0      0  \n",
       "18203         1       0      0  \n",
       "18204         1       0      0  \n",
       "18205         1       0      0  \n",
       "18206         3       0      0  \n",
       "\n",
       "[18207 rows x 42 columns]"
      ]
     },
     "execution_count": 7,
     "metadata": {},
     "output_type": "execute_result"
    }
   ],
   "source": [
    "new_DF_DW['Age'] = age_categories\n",
    "new_DF_DW['Position'] = position_categories\n",
    "new_DF_DW['Height'] = df['Height']\n",
    "new_DF_DW['Weight'] = df['Weight']\n",
    "new_DF_DW['BMI'] = df['BMI']\n",
    "new_DF_DW['LS'] = df['LS']\n",
    "new_DF_DW['LDM'] = df['LDM']\n",
    "new_DF_DW['DValue'] = labels_dvalue\n",
    "new_DF_DW['DWage'] = labels_dwage\n",
    "\n",
    "\n",
    "new_DF_DW\n"
   ]
  },
  {
   "cell_type": "code",
   "execution_count": 8,
   "metadata": {},
   "outputs": [
    {
     "data": {
      "text/html": [
       "<div>\n",
       "<style scoped>\n",
       "    .dataframe tbody tr th:only-of-type {\n",
       "        vertical-align: middle;\n",
       "    }\n",
       "\n",
       "    .dataframe tbody tr th {\n",
       "        vertical-align: top;\n",
       "    }\n",
       "\n",
       "    .dataframe thead th {\n",
       "        text-align: right;\n",
       "    }\n",
       "</style>\n",
       "<table border=\"1\" class=\"dataframe\">\n",
       "  <thead>\n",
       "    <tr style=\"text-align: right;\">\n",
       "      <th></th>\n",
       "      <th>Overall</th>\n",
       "      <th>Potential</th>\n",
       "      <th>Special</th>\n",
       "      <th>International Reputation</th>\n",
       "      <th>Weak Foot</th>\n",
       "      <th>Skill Moves</th>\n",
       "      <th>Height</th>\n",
       "      <th>Weight</th>\n",
       "      <th>Crossing</th>\n",
       "      <th>Finishing</th>\n",
       "      <th>...</th>\n",
       "      <th>Vision</th>\n",
       "      <th>Penalties</th>\n",
       "      <th>BMI</th>\n",
       "      <th>Composure</th>\n",
       "      <th>StandingTackle</th>\n",
       "      <th>GKDiving</th>\n",
       "      <th>Age</th>\n",
       "      <th>Position</th>\n",
       "      <th>DWage</th>\n",
       "      <th>DValue</th>\n",
       "    </tr>\n",
       "  </thead>\n",
       "  <tbody>\n",
       "    <tr>\n",
       "      <th>0</th>\n",
       "      <td>94</td>\n",
       "      <td>94</td>\n",
       "      <td>2202</td>\n",
       "      <td>5.0</td>\n",
       "      <td>4.0</td>\n",
       "      <td>4.0</td>\n",
       "      <td>1.7018</td>\n",
       "      <td>72.108844</td>\n",
       "      <td>84.0</td>\n",
       "      <td>95.0</td>\n",
       "      <td>...</td>\n",
       "      <td>94.0</td>\n",
       "      <td>75.0</td>\n",
       "      <td>24.898403</td>\n",
       "      <td>96.0</td>\n",
       "      <td>28.0</td>\n",
       "      <td>6.0</td>\n",
       "      <td>3</td>\n",
       "      <td>1</td>\n",
       "      <td>2</td>\n",
       "      <td>3</td>\n",
       "    </tr>\n",
       "    <tr>\n",
       "      <th>1</th>\n",
       "      <td>94</td>\n",
       "      <td>94</td>\n",
       "      <td>2228</td>\n",
       "      <td>5.0</td>\n",
       "      <td>4.0</td>\n",
       "      <td>5.0</td>\n",
       "      <td>1.8796</td>\n",
       "      <td>82.993197</td>\n",
       "      <td>84.0</td>\n",
       "      <td>94.0</td>\n",
       "      <td>...</td>\n",
       "      <td>82.0</td>\n",
       "      <td>85.0</td>\n",
       "      <td>23.491547</td>\n",
       "      <td>95.0</td>\n",
       "      <td>31.0</td>\n",
       "      <td>7.0</td>\n",
       "      <td>3</td>\n",
       "      <td>1</td>\n",
       "      <td>2</td>\n",
       "      <td>3</td>\n",
       "    </tr>\n",
       "    <tr>\n",
       "      <th>2</th>\n",
       "      <td>92</td>\n",
       "      <td>93</td>\n",
       "      <td>2143</td>\n",
       "      <td>5.0</td>\n",
       "      <td>5.0</td>\n",
       "      <td>5.0</td>\n",
       "      <td>1.7526</td>\n",
       "      <td>68.027211</td>\n",
       "      <td>79.0</td>\n",
       "      <td>87.0</td>\n",
       "      <td>...</td>\n",
       "      <td>87.0</td>\n",
       "      <td>81.0</td>\n",
       "      <td>22.147109</td>\n",
       "      <td>94.0</td>\n",
       "      <td>24.0</td>\n",
       "      <td>9.0</td>\n",
       "      <td>2</td>\n",
       "      <td>1</td>\n",
       "      <td>2</td>\n",
       "      <td>3</td>\n",
       "    </tr>\n",
       "    <tr>\n",
       "      <th>3</th>\n",
       "      <td>91</td>\n",
       "      <td>93</td>\n",
       "      <td>1471</td>\n",
       "      <td>4.0</td>\n",
       "      <td>3.0</td>\n",
       "      <td>1.0</td>\n",
       "      <td>1.9304</td>\n",
       "      <td>76.190476</td>\n",
       "      <td>17.0</td>\n",
       "      <td>13.0</td>\n",
       "      <td>...</td>\n",
       "      <td>68.0</td>\n",
       "      <td>40.0</td>\n",
       "      <td>20.445892</td>\n",
       "      <td>68.0</td>\n",
       "      <td>21.0</td>\n",
       "      <td>90.0</td>\n",
       "      <td>2</td>\n",
       "      <td>2</td>\n",
       "      <td>2</td>\n",
       "      <td>3</td>\n",
       "    </tr>\n",
       "    <tr>\n",
       "      <th>4</th>\n",
       "      <td>91</td>\n",
       "      <td>92</td>\n",
       "      <td>2281</td>\n",
       "      <td>4.0</td>\n",
       "      <td>5.0</td>\n",
       "      <td>4.0</td>\n",
       "      <td>1.8034</td>\n",
       "      <td>69.841270</td>\n",
       "      <td>93.0</td>\n",
       "      <td>82.0</td>\n",
       "      <td>...</td>\n",
       "      <td>94.0</td>\n",
       "      <td>79.0</td>\n",
       "      <td>21.474744</td>\n",
       "      <td>88.0</td>\n",
       "      <td>58.0</td>\n",
       "      <td>15.0</td>\n",
       "      <td>2</td>\n",
       "      <td>3</td>\n",
       "      <td>2</td>\n",
       "      <td>3</td>\n",
       "    </tr>\n",
       "    <tr>\n",
       "      <th>...</th>\n",
       "      <td>...</td>\n",
       "      <td>...</td>\n",
       "      <td>...</td>\n",
       "      <td>...</td>\n",
       "      <td>...</td>\n",
       "      <td>...</td>\n",
       "      <td>...</td>\n",
       "      <td>...</td>\n",
       "      <td>...</td>\n",
       "      <td>...</td>\n",
       "      <td>...</td>\n",
       "      <td>...</td>\n",
       "      <td>...</td>\n",
       "      <td>...</td>\n",
       "      <td>...</td>\n",
       "      <td>...</td>\n",
       "      <td>...</td>\n",
       "      <td>...</td>\n",
       "      <td>...</td>\n",
       "      <td>...</td>\n",
       "      <td>...</td>\n",
       "    </tr>\n",
       "    <tr>\n",
       "      <th>18202</th>\n",
       "      <td>47</td>\n",
       "      <td>65</td>\n",
       "      <td>1307</td>\n",
       "      <td>1.0</td>\n",
       "      <td>2.0</td>\n",
       "      <td>2.0</td>\n",
       "      <td>1.7526</td>\n",
       "      <td>60.770975</td>\n",
       "      <td>34.0</td>\n",
       "      <td>38.0</td>\n",
       "      <td>...</td>\n",
       "      <td>52.0</td>\n",
       "      <td>43.0</td>\n",
       "      <td>19.784751</td>\n",
       "      <td>45.0</td>\n",
       "      <td>48.0</td>\n",
       "      <td>10.0</td>\n",
       "      <td>0</td>\n",
       "      <td>3</td>\n",
       "      <td>0</td>\n",
       "      <td>0</td>\n",
       "    </tr>\n",
       "    <tr>\n",
       "      <th>18203</th>\n",
       "      <td>47</td>\n",
       "      <td>63</td>\n",
       "      <td>1098</td>\n",
       "      <td>1.0</td>\n",
       "      <td>2.0</td>\n",
       "      <td>2.0</td>\n",
       "      <td>1.9050</td>\n",
       "      <td>77.097506</td>\n",
       "      <td>23.0</td>\n",
       "      <td>52.0</td>\n",
       "      <td>...</td>\n",
       "      <td>33.0</td>\n",
       "      <td>43.0</td>\n",
       "      <td>21.244688</td>\n",
       "      <td>42.0</td>\n",
       "      <td>15.0</td>\n",
       "      <td>10.0</td>\n",
       "      <td>0</td>\n",
       "      <td>1</td>\n",
       "      <td>0</td>\n",
       "      <td>0</td>\n",
       "    </tr>\n",
       "    <tr>\n",
       "      <th>18204</th>\n",
       "      <td>47</td>\n",
       "      <td>67</td>\n",
       "      <td>1189</td>\n",
       "      <td>1.0</td>\n",
       "      <td>3.0</td>\n",
       "      <td>2.0</td>\n",
       "      <td>1.7272</td>\n",
       "      <td>67.120181</td>\n",
       "      <td>25.0</td>\n",
       "      <td>40.0</td>\n",
       "      <td>...</td>\n",
       "      <td>43.0</td>\n",
       "      <td>55.0</td>\n",
       "      <td>22.499241</td>\n",
       "      <td>41.0</td>\n",
       "      <td>13.0</td>\n",
       "      <td>6.0</td>\n",
       "      <td>0</td>\n",
       "      <td>1</td>\n",
       "      <td>0</td>\n",
       "      <td>0</td>\n",
       "    </tr>\n",
       "    <tr>\n",
       "      <th>18205</th>\n",
       "      <td>47</td>\n",
       "      <td>66</td>\n",
       "      <td>1228</td>\n",
       "      <td>1.0</td>\n",
       "      <td>3.0</td>\n",
       "      <td>2.0</td>\n",
       "      <td>1.7780</td>\n",
       "      <td>69.841270</td>\n",
       "      <td>44.0</td>\n",
       "      <td>50.0</td>\n",
       "      <td>...</td>\n",
       "      <td>47.0</td>\n",
       "      <td>50.0</td>\n",
       "      <td>22.092691</td>\n",
       "      <td>46.0</td>\n",
       "      <td>25.0</td>\n",
       "      <td>14.0</td>\n",
       "      <td>0</td>\n",
       "      <td>1</td>\n",
       "      <td>0</td>\n",
       "      <td>0</td>\n",
       "    </tr>\n",
       "    <tr>\n",
       "      <th>18206</th>\n",
       "      <td>46</td>\n",
       "      <td>66</td>\n",
       "      <td>1321</td>\n",
       "      <td>1.0</td>\n",
       "      <td>3.0</td>\n",
       "      <td>2.0</td>\n",
       "      <td>1.7780</td>\n",
       "      <td>79.818594</td>\n",
       "      <td>41.0</td>\n",
       "      <td>34.0</td>\n",
       "      <td>...</td>\n",
       "      <td>49.0</td>\n",
       "      <td>33.0</td>\n",
       "      <td>25.248789</td>\n",
       "      <td>43.0</td>\n",
       "      <td>43.0</td>\n",
       "      <td>10.0</td>\n",
       "      <td>0</td>\n",
       "      <td>3</td>\n",
       "      <td>0</td>\n",
       "      <td>0</td>\n",
       "    </tr>\n",
       "  </tbody>\n",
       "</table>\n",
       "<p>18207 rows × 42 columns</p>\n",
       "</div>"
      ],
      "text/plain": [
       "       Overall  Potential  Special  International Reputation  Weak Foot  \\\n",
       "0           94         94     2202                       5.0        4.0   \n",
       "1           94         94     2228                       5.0        4.0   \n",
       "2           92         93     2143                       5.0        5.0   \n",
       "3           91         93     1471                       4.0        3.0   \n",
       "4           91         92     2281                       4.0        5.0   \n",
       "...        ...        ...      ...                       ...        ...   \n",
       "18202       47         65     1307                       1.0        2.0   \n",
       "18203       47         63     1098                       1.0        2.0   \n",
       "18204       47         67     1189                       1.0        3.0   \n",
       "18205       47         66     1228                       1.0        3.0   \n",
       "18206       46         66     1321                       1.0        3.0   \n",
       "\n",
       "       Skill Moves  Height     Weight  Crossing  Finishing  ...  Vision  \\\n",
       "0              4.0  1.7018  72.108844      84.0       95.0  ...    94.0   \n",
       "1              5.0  1.8796  82.993197      84.0       94.0  ...    82.0   \n",
       "2              5.0  1.7526  68.027211      79.0       87.0  ...    87.0   \n",
       "3              1.0  1.9304  76.190476      17.0       13.0  ...    68.0   \n",
       "4              4.0  1.8034  69.841270      93.0       82.0  ...    94.0   \n",
       "...            ...     ...        ...       ...        ...  ...     ...   \n",
       "18202          2.0  1.7526  60.770975      34.0       38.0  ...    52.0   \n",
       "18203          2.0  1.9050  77.097506      23.0       52.0  ...    33.0   \n",
       "18204          2.0  1.7272  67.120181      25.0       40.0  ...    43.0   \n",
       "18205          2.0  1.7780  69.841270      44.0       50.0  ...    47.0   \n",
       "18206          2.0  1.7780  79.818594      41.0       34.0  ...    49.0   \n",
       "\n",
       "       Penalties        BMI  Composure  StandingTackle  GKDiving  Age  \\\n",
       "0           75.0  24.898403       96.0            28.0       6.0    3   \n",
       "1           85.0  23.491547       95.0            31.0       7.0    3   \n",
       "2           81.0  22.147109       94.0            24.0       9.0    2   \n",
       "3           40.0  20.445892       68.0            21.0      90.0    2   \n",
       "4           79.0  21.474744       88.0            58.0      15.0    2   \n",
       "...          ...        ...        ...             ...       ...  ...   \n",
       "18202       43.0  19.784751       45.0            48.0      10.0    0   \n",
       "18203       43.0  21.244688       42.0            15.0      10.0    0   \n",
       "18204       55.0  22.499241       41.0            13.0       6.0    0   \n",
       "18205       50.0  22.092691       46.0            25.0      14.0    0   \n",
       "18206       33.0  25.248789       43.0            43.0      10.0    0   \n",
       "\n",
       "       Position  DWage  DValue  \n",
       "0             1      2       3  \n",
       "1             1      2       3  \n",
       "2             1      2       3  \n",
       "3             2      2       3  \n",
       "4             3      2       3  \n",
       "...         ...    ...     ...  \n",
       "18202         3      0       0  \n",
       "18203         1      0       0  \n",
       "18204         1      0       0  \n",
       "18205         1      0       0  \n",
       "18206         3      0       0  \n",
       "\n",
       "[18207 rows x 42 columns]"
      ]
     },
     "execution_count": 8,
     "metadata": {},
     "output_type": "execute_result"
    }
   ],
   "source": [
    "\n",
    "new_DF_DV = new_DF_DW.drop('DValue', axis=1)\n",
    "new_DF_DV = new_DF_DV.drop('DWage', axis=1)\n",
    "new_DF_DV['DWage'] = labels_dwage\n",
    "new_DF_DV['DValue'] = labels_dvalue\n",
    "\n",
    "new_DF_DV\n"
   ]
  },
  {
   "cell_type": "code",
   "execution_count": 9,
   "metadata": {},
   "outputs": [],
   "source": [
    "def fill_na_values(df):\n",
    "    for col in df.columns:\n",
    "        median = df[col].median()\n",
    "        df[col] = df[col].fillna(median)\n",
    "    return df"
   ]
  },
  {
   "cell_type": "code",
   "execution_count": 10,
   "metadata": {},
   "outputs": [],
   "source": [
    "new_DF_DW = fill_na_values(new_DF_DW)\n",
    "new_DF_DV = fill_na_values(new_DF_DV)\n"
   ]
  },
  {
   "cell_type": "code",
   "execution_count": 11,
   "metadata": {},
   "outputs": [],
   "source": [
    "X_DWage = new_DF_DW.drop(['DWage'], axis=1)\n",
    "X_DValue = new_DF_DV.drop(['DValue'], axis=1)\n"
   ]
  },
  {
   "cell_type": "code",
   "execution_count": 12,
   "metadata": {},
   "outputs": [],
   "source": [
    "X_DW_train, X_DW_test, y_DW_train, y_DW_test = train_test_split(\n",
    "    X_DWage, labels_dwage, test_size=0.33, random_state=42)\n",
    "X_DV_train, X_DV_test, y_DV_train, y_DV_test = train_test_split(\n",
    "    X_DValue, labels_dvalue, test_size=0.33, random_state=42)\n"
   ]
  },
  {
   "cell_type": "code",
   "execution_count": 13,
   "metadata": {},
   "outputs": [
    {
     "data": {
      "text/plain": [
       "0        2\n",
       "1        2\n",
       "2        2\n",
       "3        2\n",
       "4        2\n",
       "        ..\n",
       "18202    0\n",
       "18203    0\n",
       "18204    0\n",
       "18205    0\n",
       "18206    0\n",
       "Length: 18207, dtype: int8"
      ]
     },
     "execution_count": 13,
     "metadata": {},
     "output_type": "execute_result"
    }
   ],
   "source": [
    "labels_dwage"
   ]
  },
  {
   "cell_type": "code",
   "execution_count": 14,
   "metadata": {},
   "outputs": [],
   "source": [
    "def scores(y_true,y_pred):\n",
    "        report = classification_report(y_true, y_pred)\n",
    "        print(report)\n",
    "        #df = pd.DataFrame(report)\n",
    "        #latex = df.to_latex(index=False)\n",
    "        #print(latex)"
   ]
  },
  {
   "cell_type": "code",
   "execution_count": 15,
   "metadata": {},
   "outputs": [
    {
     "name": "stderr",
     "output_type": "stream",
     "text": [
      "/home/akaen/.local/lib/python3.8/site-packages/sklearn/base.py:441: UserWarning: X does not have valid feature names, but KNeighborsClassifier was fitted with feature names\n",
      "  warnings.warn(\n",
      "/home/akaen/.local/lib/python3.8/site-packages/sklearn/base.py:441: UserWarning: X does not have valid feature names, but KNeighborsClassifier was fitted with feature names\n",
      "  warnings.warn(\n",
      "/home/akaen/.local/lib/python3.8/site-packages/sklearn/base.py:441: UserWarning: X does not have valid feature names, but KNeighborsClassifier was fitted with feature names\n",
      "  warnings.warn(\n",
      "/home/akaen/.local/lib/python3.8/site-packages/sklearn/base.py:441: UserWarning: X does not have valid feature names, but KNeighborsClassifier was fitted with feature names\n",
      "  warnings.warn(\n"
     ]
    },
    {
     "name": "stdout",
     "output_type": "stream",
     "text": [
      "accuracy KNeighborsClassifier() DWage 0.8904975869529039 \n",
      "accuracy KNeighborsClassifier() DValue 0.6442003661174904\n",
      "KNeighborsClassifier() DWage classification report : \n",
      "\n",
      "\n",
      "              precision    recall  f1-score   support\n",
      "\n",
      "           0       0.92      0.96      0.94      5094\n",
      "           1       0.64      0.51      0.57       843\n",
      "           2       0.68      0.24      0.35        72\n",
      "\n",
      "    accuracy                           0.89      6009\n",
      "   macro avg       0.75      0.57      0.62      6009\n",
      "weighted avg       0.88      0.89      0.88      6009\n",
      "\n",
      "KNeighborsClassifier() DValue classification report : \n",
      "\n",
      "              precision    recall  f1-score   support\n",
      "\n",
      "           0       0.77      0.74      0.75      1424\n",
      "           1       0.50      0.58      0.54      1262\n",
      "           2       0.64      0.64      0.64      2137\n",
      "           3       0.69      0.61      0.65      1186\n",
      "\n",
      "    accuracy                           0.64      6009\n",
      "   macro avg       0.65      0.64      0.64      6009\n",
      "weighted avg       0.65      0.64      0.65      6009\n",
      "\n",
      "accuracy DecisionTreeClassifier() DWage 0.8731902146779831 \n",
      "accuracy DecisionTreeClassifier() DValue 0.8572141787319022\n",
      "DecisionTreeClassifier() DWage classification report : \n",
      "\n",
      "\n",
      "              precision    recall  f1-score   support\n",
      "\n",
      "           0       0.93      0.93      0.93      5094\n",
      "           1       0.55      0.56      0.55       843\n",
      "           2       0.45      0.49      0.47        72\n",
      "\n",
      "    accuracy                           0.87      6009\n",
      "   macro avg       0.64      0.66      0.65      6009\n",
      "weighted avg       0.87      0.87      0.87      6009\n",
      "\n",
      "DecisionTreeClassifier() DValue classification report : \n",
      "\n",
      "              precision    recall  f1-score   support\n",
      "\n",
      "           0       0.93      0.90      0.91      1424\n",
      "           1       0.84      0.87      0.85      1262\n",
      "           2       0.85      0.84      0.84      2137\n",
      "           3       0.82      0.82      0.82      1186\n",
      "\n",
      "    accuracy                           0.86      6009\n",
      "   macro avg       0.86      0.86      0.86      6009\n",
      "weighted avg       0.86      0.86      0.86      6009\n",
      "\n"
     ]
    },
    {
     "data": {
      "image/png": "[encoded data removed]",
      "text/plain": [
       "<Figure size 720x720 with 1 Axes>"
      ]
     },
     "metadata": {
      "needs_background": "light"
     },
     "output_type": "display_data"
    },
    {
     "data": {
      "image/png": "[encoded data removed]",
      "text/plain": [
       "<Figure size 720x720 with 1 Axes>"
      ]
     },
     "metadata": {
      "needs_background": "light"
     },
     "output_type": "display_data"
    },
    {
     "name": "stderr",
     "output_type": "stream",
     "text": [
      "/home/akaen/.local/lib/python3.8/site-packages/sklearn/linear_model/_logistic.py:814: ConvergenceWarning: lbfgs failed to converge (status=1):\n",
      "STOP: TOTAL NO. of ITERATIONS REACHED LIMIT.\n",
      "\n",
      "Increase the number of iterations (max_iter) or scale the data as shown in:\n",
      "    https://scikit-learn.org/stable/modules/preprocessing.html\n",
      "Please also refer to the documentation for alternative solver options:\n",
      "    https://scikit-learn.org/stable/modules/linear_model.html#logistic-regression\n",
      "  n_iter_i = _check_optimize_result(\n"
     ]
    },
    {
     "name": "stdout",
     "output_type": "stream",
     "text": [
      "accuracy LogisticRegression(multi_class='multinomial') DWage 0.8705275420203029 \n",
      "accuracy LogisticRegression(multi_class='multinomial') DValue 0.545015809618905\n",
      "LogisticRegression(multi_class='multinomial') DWage classification report : \n",
      "\n",
      "\n",
      "              precision    recall  f1-score   support\n",
      "\n",
      "           0       0.90      0.97      0.93      5094\n",
      "           1       0.56      0.36      0.44       843\n",
      "           2       0.00      0.00      0.00        72\n",
      "\n",
      "    accuracy                           0.87      6009\n",
      "   macro avg       0.49      0.44      0.46      6009\n",
      "weighted avg       0.84      0.87      0.85      6009\n",
      "\n",
      "LogisticRegression(multi_class='multinomial') DValue classification report : \n",
      "\n",
      "              precision    recall  f1-score   support\n",
      "\n",
      "           0       0.63      0.69      0.66      1424\n",
      "           1       0.39      0.17      0.24      1262\n",
      "           2       0.51      0.69      0.58      2137\n",
      "           3       0.61      0.52      0.56      1186\n",
      "\n",
      "    accuracy                           0.55      6009\n",
      "   macro avg       0.53      0.52      0.51      6009\n",
      "weighted avg       0.53      0.55      0.52      6009\n",
      "\n",
      "accuracy GaussianNB() DWage 0.8042935596605092 \n",
      "accuracy GaussianNB() DValue 0.6159094691296388\n",
      "GaussianNB() DWage classification report : \n",
      "\n",
      "\n",
      "              precision    recall  f1-score   support\n",
      "\n",
      "           0       0.97      0.82      0.89      5094\n",
      "           1       0.40      0.74      0.52       843\n",
      "           2       0.36      0.79      0.49        72\n",
      "\n",
      "    accuracy                           0.80      6009\n",
      "   macro avg       0.57      0.78      0.63      6009\n",
      "weighted avg       0.88      0.80      0.83      6009\n",
      "\n",
      "GaussianNB() DValue classification report : \n",
      "\n",
      "              precision    recall  f1-score   support\n",
      "\n",
      "           0       0.68      0.68      0.68      1424\n",
      "           1       0.47      0.65      0.55      1262\n",
      "           2       0.67      0.51      0.58      2137\n",
      "           3       0.68      0.69      0.68      1186\n",
      "\n",
      "    accuracy                           0.62      6009\n",
      "   macro avg       0.63      0.63      0.62      6009\n",
      "weighted avg       0.63      0.62      0.62      6009\n",
      "\n"
     ]
    },
    {
     "name": "stderr",
     "output_type": "stream",
     "text": [
      "/home/akaen/.local/lib/python3.8/site-packages/sklearn/linear_model/_logistic.py:814: ConvergenceWarning: lbfgs failed to converge (status=1):\n",
      "STOP: TOTAL NO. of ITERATIONS REACHED LIMIT.\n",
      "\n",
      "Increase the number of iterations (max_iter) or scale the data as shown in:\n",
      "    https://scikit-learn.org/stable/modules/preprocessing.html\n",
      "Please also refer to the documentation for alternative solver options:\n",
      "    https://scikit-learn.org/stable/modules/linear_model.html#logistic-regression\n",
      "  n_iter_i = _check_optimize_result(\n",
      "/home/akaen/.local/lib/python3.8/site-packages/sklearn/metrics/_classification.py:1308: UndefinedMetricWarning: Precision and F-score are ill-defined and being set to 0.0 in labels with no predicted samples. Use `zero_division` parameter to control this behavior.\n",
      "  _warn_prf(average, modifier, msg_start, len(result))\n",
      "/home/akaen/.local/lib/python3.8/site-packages/sklearn/metrics/_classification.py:1308: UndefinedMetricWarning: Precision and F-score are ill-defined and being set to 0.0 in labels with no predicted samples. Use `zero_division` parameter to control this behavior.\n",
      "  _warn_prf(average, modifier, msg_start, len(result))\n",
      "/home/akaen/.local/lib/python3.8/site-packages/sklearn/metrics/_classification.py:1308: UndefinedMetricWarning: Precision and F-score are ill-defined and being set to 0.0 in labels with no predicted samples. Use `zero_division` parameter to control this behavior.\n",
      "  _warn_prf(average, modifier, msg_start, len(result))\n"
     ]
    }
   ],
   "source": [
    "from sklearn.neighbors import KNeighborsClassifier\n",
    "from sklearn.naive_bayes import GaussianNB, MultinomialNB\n",
    "from sklearn.tree import DecisionTreeClassifier\n",
    "from sklearn.linear_model import LogisticRegressionCV, RidgeClassifierCV\n",
    "from sklearn.ensemble import RandomForestClassifier\n",
    "\n",
    "df_ = pd.read_csv('data.csv')\n",
    "\n",
    "\n",
    "def classifier_accuracy(m, plot=False):\n",
    "\n",
    "    try:\n",
    "        clf = m(multi_class='multinomial',).fit(X_DW_train, y_DW_train)\n",
    "        clf_ = m(multi_class='multinomial').fit(X_DV_train, y_DV_train)\n",
    "    except:\n",
    "        clf = m().fit(X_DW_train, y_DW_train)\n",
    "        clf_ = m().fit(X_DV_train, y_DV_train)\n",
    "\n",
    "    try:\n",
    "        \n",
    "        prefictions = clf.predict(X_DW_test)\n",
    "        prefictions_ = clf_.predict(X_DV_test)\n",
    "\n",
    "        res = clf.score(X_DW_test, y_DW_test)\n",
    "        res_ = clf_.score(X_DV_test, y_DV_test)\n",
    "        print('accuracy '+str(clf)+' DWage', res,\n",
    "              '\\naccuracy '+str(clf)+' DValue', res_)\n",
    "        \n",
    "        print(str(clf)+' DWage classification report : \\n')\n",
    "        print()\n",
    "        scores(y_DW_test,prefictions)\n",
    "\n",
    "        print(str(clf)+' DValue classification report : \\n')\n",
    "        scores(y_DV_test,prefictions_)\n",
    "\n",
    "        \n",
    "\n",
    "    except:\n",
    "        res = clf.score(X_DW_test, y_DW_test)\n",
    "        res_ = clf_.score(X_DV_test, y_DV_test)\n",
    "        print('accuracy '+str(clf)+' DWage', res,\n",
    "              '\\naccuracy '+str(clf)+' DValue', res_)\n",
    "\n",
    "    if plot == True and m == DecisionTreeClassifier:\n",
    "        plt.figure(figsize=(10, 10))\n",
    "        sns.barplot(y=clf.feature_names_in_,\n",
    "                    x=clf.feature_importances_, palette='copper')\n",
    "        plt.xlabel('Importence')\n",
    "        plt.ylabel('Features')\n",
    "        plt.title('Importence of Features in a decision tree of Wages')\n",
    "        plt.show()\n",
    "        \n",
    "        plt.figure(figsize=(10, 10))\n",
    "        sns.barplot(y=clf_.feature_names_in_,\n",
    "                    x=clf_.feature_importances_, palette='Reds')\n",
    "        plt.xlabel('Importence')\n",
    "        plt.ylabel('Features')\n",
    "        plt.title('Importence of Features in a decision tree of Value')\n",
    "        plt.show()\n",
    "\n",
    "\n",
    "\n",
    "clfs = [KNeighborsClassifier, DecisionTreeClassifier,LogisticRegression,GaussianNB]\n",
    "for clf in clfs:\n",
    "    classifier_accuracy(clf, True)\n"
   ]
  },
  {
   "cell_type": "markdown",
   "metadata": {},
   "source": [
    "On the returned scores we are going to focus on the weighted results, because, it says the function to compute f1 for each label, and returns the average considering the **proportion for each label in the dataset**.\n",
    "\n",
    "We can see that `Overall` is importent for both `Value` and `Wage`.\n",
    "\n",
    "`Potential, Age` and `finishing` are also stands out for `Value`."
   ]
  },
  {
   "cell_type": "markdown",
   "metadata": {},
   "source": [
    "##  Regression Part"
   ]
  },
  {
   "cell_type": "markdown",
   "metadata": {},
   "source": [
    "Selecting all numerical or categorical features that we are going to work with"
   ]
  },
  {
   "cell_type": "code",
   "execution_count": 16,
   "metadata": {},
   "outputs": [],
   "source": [
    "\n",
    "\n",
    "X = df[['Overall', 'Wage', 'Potential', 'Special', 'International Reputation', 'Weak Foot',\n",
    "        'Skill Moves', 'Height', 'Weight', 'Crossing', 'Finishing', 'HeadingAccuracy',\n",
    "        'ShortPassing', 'Volleys', 'Dribbling', 'Curve', 'FKAccuracy', 'LongPassing',\n",
    "        'BallControl', 'Acceleration', 'Agility', 'Reactions', 'Balance',\n",
    "        'ShotPower', 'Jumping', 'Stamina', 'Strength', 'LongShots', 'LS', 'LDM',\n",
    "        'Aggression', 'Interceptions', 'Positioning', 'Vision', 'Penalties', 'BMI',\n",
    "        'Composure', 'StandingTackle', 'GKDiving']].copy()\n"
   ]
  },
  {
   "cell_type": "code",
   "execution_count": 17,
   "metadata": {},
   "outputs": [],
   "source": [
    "X = fill_na_values(X)\n",
    "X['Age'] = original_df['Age']"
   ]
  },
  {
   "cell_type": "code",
   "execution_count": 18,
   "metadata": {},
   "outputs": [
    {
     "data": {
      "text/plain": [
       "array([1.105e+08, 7.700e+07, 1.185e+08, 7.200e+07, 1.020e+08])"
      ]
     },
     "execution_count": 18,
     "metadata": {},
     "output_type": "execute_result"
    }
   ],
   "source": [
    "yvalue = df['Value'].values \n",
    "yvalue[:5]"
   ]
  },
  {
   "cell_type": "code",
   "execution_count": 19,
   "metadata": {},
   "outputs": [
    {
     "data": {
      "text/plain": [
       "SelectFromModel(estimator=Ridge())"
      ]
     },
     "execution_count": 19,
     "metadata": {},
     "output_type": "execute_result"
    }
   ],
   "source": [
    "X_norm_value = MinMaxScaler().fit_transform(X)\n",
    "\n",
    "sel_ = SelectFromModel(Ridge())\n",
    "sel_.fit(X_norm_value, yvalue)"
   ]
  },
  {
   "cell_type": "markdown",
   "metadata": {},
   "source": [
    "Looking at the coefficient plot to gauge feature importance can be misleading as some of them vary on a small scale, while others not.\n",
    "\n",
    "Multiplying the coefficients by the standard deviation of the related feature would reduce all the coefficients to the same unit of measure."
   ]
  },
  {
   "cell_type": "code",
   "execution_count": 20,
   "metadata": {},
   "outputs": [
    {
     "data": {
      "image/png": "[encoded data removed]",
      "text/plain": [
       "<Figure size 720x720 with 1 Axes>"
      ]
     },
     "metadata": {
      "needs_background": "light"
     },
     "output_type": "display_data"
    }
   ],
   "source": [
    "importences_value = sel_.estimator_.coef_\n",
    "plt.figure(figsize=(10, 10))\n",
    "sns.barplot(y=X.columns,\n",
    "            x=importences_value * X_norm_value.std(axis=0), palette='copper')\n",
    "plt.xlabel('Importence')\n",
    "plt.title('Importence of Features in Value prediction')\n",
    "plt.show()"
   ]
  },
  {
   "cell_type": "code",
   "execution_count": 21,
   "metadata": {},
   "outputs": [
    {
     "name": "stdout",
     "output_type": "stream",
     "text": [
      "total features: 40\n",
      "selected features: 5\n",
      "features with coefficients shrank to zero: 0\n"
     ]
    }
   ],
   "source": [
    "selected_feat = X.columns[(sel_.get_support())]\n",
    "\n",
    "print('total features: {}'.format((X.shape[1])))\n",
    "print('selected features: {}'.format(len(selected_feat)))\n",
    "print('features with coefficients shrank to zero: {}'.format(\n",
    "    np.sum(sel_.estimator_.coef_ == 0)))\n"
   ]
  },
  {
   "cell_type": "markdown",
   "metadata": {},
   "source": [
    "Let's see what features has been selected"
   ]
  },
  {
   "cell_type": "code",
   "execution_count": 22,
   "metadata": {},
   "outputs": [
    {
     "data": {
      "text/plain": [
       "Index(['Overall', 'Wage', 'Special', 'International Reputation', 'Age'], dtype='object')"
      ]
     },
     "execution_count": 22,
     "metadata": {},
     "output_type": "execute_result"
    }
   ],
   "source": [
    "selected_feat\n"
   ]
  },
  {
   "cell_type": "code",
   "execution_count": 23,
   "metadata": {},
   "outputs": [
    {
     "data": {
      "text/plain": [
       "(18207, 5)"
      ]
     },
     "execution_count": 23,
     "metadata": {},
     "output_type": "execute_result"
    }
   ],
   "source": [
    "X_model_value = X[selected_feat]\n",
    "X_model_value.shape\n"
   ]
  },
  {
   "cell_type": "code",
   "execution_count": 24,
   "metadata": {},
   "outputs": [],
   "source": [
    "X_train_value, X_test_value, y_train_value, y_test_value = train_test_split(\n",
    "    X_model_value, yvalue, test_size=0.33,random_state= 42)\n"
   ]
  },
  {
   "cell_type": "code",
   "execution_count": 25,
   "metadata": {},
   "outputs": [
    {
     "name": "stdout",
     "output_type": "stream",
     "text": [
      "==================================================\n",
      "<class 'sklearn.linear_model._coordinate_descent.LassoCV'>\n",
      "r2_score :  0.9100516725962828\n",
      "==================================================\n",
      "<class 'sklearn.linear_model._base.LinearRegression'>\n",
      "r2_score :  0.9114466921405845\n",
      "==================================================\n",
      "<class 'sklearn.linear_model._ridge.Ridge'>\n",
      "r2_score :  0.9114572075302693\n"
     ]
    }
   ],
   "source": [
    "from sklearn.pipeline import Pipeline\n",
    "from sklearn.preprocessing import StandardScaler, PolynomialFeatures\n",
    "from sklearn.metrics import r2_score\n",
    "\n",
    "\n",
    "for r_m in [LassoCV,LinearRegression, Ridge]:\n",
    "    model = Pipeline((\n",
    "        (\"standard_scaler\", StandardScaler()),\n",
    "        (\"poly\", PolynomialFeatures()),\n",
    "        (\"lin_reg\", r_m())\n",
    "    ))\n",
    "\n",
    "\n",
    "    model.fit(X_train_value, y_train_value)\n",
    "    y_test_pred = model.predict(X_test_value)\n",
    "    print('='*50)\n",
    "    print(r_m)\n",
    "    print('r2_score : ',r2_score(y_test_value, y_test_pred))\n",
    "\n"
   ]
  },
  {
   "cell_type": "markdown",
   "metadata": {},
   "source": [
    "## French Players Value:"
   ]
  },
  {
   "cell_type": "code",
   "execution_count": 26,
   "metadata": {},
   "outputs": [
    {
     "data": {
      "text/plain": [
       "(914, 40)"
      ]
     },
     "execution_count": 26,
     "metadata": {},
     "output_type": "execute_result"
    }
   ],
   "source": [
    "df_francais = df[df['Nationality'] == 'France']\n",
    "X_francais = X.iloc[df_francais.index]\n",
    "X_francais.shape\n"
   ]
  },
  {
   "cell_type": "code",
   "execution_count": 27,
   "metadata": {},
   "outputs": [
    {
     "data": {
      "text/plain": [
       "(914,)"
      ]
     },
     "execution_count": 27,
     "metadata": {},
     "output_type": "execute_result"
    }
   ],
   "source": [
    "y = df['Value'].iloc[X_francais.index].values\n",
    "y.shape"
   ]
  },
  {
   "cell_type": "code",
   "execution_count": 28,
   "metadata": {},
   "outputs": [
    {
     "data": {
      "text/plain": [
       "SelectFromModel(estimator=Ridge())"
      ]
     },
     "execution_count": 28,
     "metadata": {},
     "output_type": "execute_result"
    }
   ],
   "source": [
    "\n",
    "X_norm = MinMaxScaler().fit_transform(X_francais)\n",
    "\n",
    "sel_ = SelectFromModel(Ridge())\n",
    "sel_.fit(X_norm, y)\n"
   ]
  },
  {
   "cell_type": "code",
   "execution_count": 29,
   "metadata": {},
   "outputs": [
    {
     "data": {
      "image/png": "[encoded data removed]",
      "text/plain": [
       "<Figure size 720x720 with 1 Axes>"
      ]
     },
     "metadata": {
      "needs_background": "light"
     },
     "output_type": "display_data"
    }
   ],
   "source": [
    "importences_value = sel_.estimator_.coef_\n",
    "plt.figure(figsize=(10, 10))\n",
    "sns.barplot(y=X_francais.columns,\n",
    "            x=importences_value * X_norm.std(axis=0), palette='copper')\n",
    "plt.xlabel('Importence')\n",
    "plt.title('Importence of Features in Value prediction of french players')\n",
    "plt.show()"
   ]
  },
  {
   "cell_type": "code",
   "execution_count": 30,
   "metadata": {},
   "outputs": [
    {
     "name": "stdout",
     "output_type": "stream",
     "text": [
      "total features: 40\n",
      "selected features: 9\n",
      "features with coefficients shrank to zero: 0\n"
     ]
    }
   ],
   "source": [
    "selected_feat = X.columns[(sel_.get_support())]\n",
    "\n",
    "print('total features: {}'.format((X.shape[1])))\n",
    "print('selected features: {}'.format(len(selected_feat)))\n",
    "print('features with coefficients shrank to zero: {}'.format(\n",
    "    np.sum(sel_.estimator_.coef_ == 0)))\n"
   ]
  },
  {
   "cell_type": "code",
   "execution_count": 31,
   "metadata": {},
   "outputs": [
    {
     "data": {
      "text/plain": [
       "Index(['Overall', 'Wage', 'International Reputation', 'Skill Moves',\n",
       "       'Dribbling', 'Reactions', 'ShotPower', 'Stamina', 'Age'],\n",
       "      dtype='object')"
      ]
     },
     "execution_count": 31,
     "metadata": {},
     "output_type": "execute_result"
    }
   ],
   "source": [
    "selected_feat\n"
   ]
  },
  {
   "cell_type": "markdown",
   "metadata": {},
   "source": [
    "### Remarque: \n",
    "The importence of features based on weights are different if we select only french players.\n",
    "\n",
    "Some other features joined the initial selection."
   ]
  },
  {
   "cell_type": "markdown",
   "metadata": {},
   "source": [
    "# Predicting Overall"
   ]
  },
  {
   "cell_type": "code",
   "execution_count": 32,
   "metadata": {},
   "outputs": [
    {
     "data": {
      "text/plain": [
       "array([94, 94, 92, 91, 91])"
      ]
     },
     "execution_count": 32,
     "metadata": {},
     "output_type": "execute_result"
    }
   ],
   "source": [
    "yoverall = df['Overall'].values \n",
    "yoverall[:5]"
   ]
  },
  {
   "cell_type": "code",
   "execution_count": 33,
   "metadata": {},
   "outputs": [],
   "source": [
    "X_overall = X.copy()\n",
    "X_overall = X_overall.drop('Overall',axis=1)\n",
    "X_overall['Value'] = df['Value']\n"
   ]
  },
  {
   "cell_type": "code",
   "execution_count": 34,
   "metadata": {},
   "outputs": [
    {
     "data": {
      "text/plain": [
       "SelectFromModel(estimator=Ridge())"
      ]
     },
     "execution_count": 34,
     "metadata": {},
     "output_type": "execute_result"
    }
   ],
   "source": [
    "X_norm_overall = MinMaxScaler().fit_transform(X_overall)\n",
    "\n",
    "sel_ = SelectFromModel(Ridge())\n",
    "sel_.fit(X_norm_overall, yoverall)"
   ]
  },
  {
   "cell_type": "code",
   "execution_count": 35,
   "metadata": {},
   "outputs": [
    {
     "data": {
      "image/png": "[encoded data removed]",
      "text/plain": [
       "<Figure size 720x720 with 1 Axes>"
      ]
     },
     "metadata": {
      "needs_background": "light"
     },
     "output_type": "display_data"
    }
   ],
   "source": [
    "importences_value = sel_.estimator_.coef_\n",
    "plt.figure(figsize=(10, 10))\n",
    "sns.barplot(y=X_overall.columns,\n",
    "            x=importences_value * X_norm_overall.std(axis=0), palette='copper')\n",
    "plt.xlabel('Importence')\n",
    "plt.title('Importence of Features in Overall prediction')\n",
    "plt.show()"
   ]
  },
  {
   "cell_type": "code",
   "execution_count": 36,
   "metadata": {},
   "outputs": [
    {
     "name": "stdout",
     "output_type": "stream",
     "text": [
      "total features: 40\n",
      "selected features: 12\n",
      "features with coefficients shrank to zero: 0\n"
     ]
    }
   ],
   "source": [
    "selected_feat = X_overall.columns[(sel_.get_support())]\n",
    "\n",
    "# let's print some stats\n",
    "print('total features: {}'.format((X_overall.shape[1])))\n",
    "print('selected features: {}'.format(len(selected_feat)))\n",
    "print('features with coefficients shrank to zero: {}'.format(\n",
    "    np.sum(sel_.estimator_.coef_ == 0)))"
   ]
  },
  {
   "cell_type": "code",
   "execution_count": 37,
   "metadata": {},
   "outputs": [
    {
     "data": {
      "text/plain": [
       "Index(['Wage', 'Potential', 'Special', 'Weight', 'BallControl', 'Reactions',\n",
       "       'Positioning', 'BMI', 'Composure', 'GKDiving', 'Age', 'Value'],\n",
       "      dtype='object')"
      ]
     },
     "execution_count": 37,
     "metadata": {},
     "output_type": "execute_result"
    }
   ],
   "source": [
    "selected_feat"
   ]
  },
  {
   "cell_type": "code",
   "execution_count": 38,
   "metadata": {},
   "outputs": [
    {
     "data": {
      "text/plain": [
       "(18207, 12)"
      ]
     },
     "execution_count": 38,
     "metadata": {},
     "output_type": "execute_result"
    }
   ],
   "source": [
    "X_model_overall = X_overall[selected_feat]\n",
    "X_train, X_test, y_train, y_test = train_test_split(\n",
    "    X_model_overall, yoverall, test_size=.2, random_state=42)\n",
    "X_model_overall.shape"
   ]
  },
  {
   "cell_type": "code",
   "execution_count": 39,
   "metadata": {},
   "outputs": [
    {
     "name": "stdout",
     "output_type": "stream",
     "text": [
      "==================================================\n",
      "<class 'sklearn.linear_model._coordinate_descent.Lasso'>\n",
      "r2_score :  0.8358379006487198\n",
      "==================================================\n",
      "<class 'sklearn.linear_model._base.LinearRegression'>\n",
      "r2_score :  0.9174712978409312\n",
      "==================================================\n",
      "<class 'sklearn.linear_model._ridge.Ridge'>\n",
      "r2_score :  0.9174709111155189\n"
     ]
    }
   ],
   "source": [
    "for r_m in [Lasso,LinearRegression, Ridge]:\n",
    "    model = Pipeline((\n",
    "        (\"standard_scaler\", StandardScaler()),\n",
    "        (\"lin_reg\", r_m())\n",
    "    ))\n",
    "\n",
    "    model.fit(X_train, y_train)\n",
    "    y_test_pred = model.predict(X_test)\n",
    "    print('='*50)\n",
    "    print(r_m)\n",
    "    print('r2_score : ',r2_score(y_test, y_test_pred))"
   ]
  },
  {
   "cell_type": "markdown",
   "metadata": {},
   "source": [
    "We can see that we have good results using `LR` or `Ridge`, because, in our features we still have `Potential`, which is a little similar to our target `Overall`.\n",
    "\n",
    "If we remove the `PolynomialFeatures`, the results are also prety good with r2 = 0.91"
   ]
  },
  {
   "cell_type": "markdown",
   "metadata": {},
   "source": [
    "# Predicting Wage"
   ]
  },
  {
   "cell_type": "code",
   "execution_count": 40,
   "metadata": {},
   "outputs": [
    {
     "data": {
      "text/plain": [
       "array([565000., 405000., 290000., 260000., 355000.])"
      ]
     },
     "execution_count": 40,
     "metadata": {},
     "output_type": "execute_result"
    }
   ],
   "source": [
    "X_wage = X.copy()\n",
    "X_wage['Value'] = df['Value']\n",
    "X_wage = X_wage.drop('Wage', axis=1)\n",
    "y = df['Wage'].values\n",
    "y[:5]\n"
   ]
  },
  {
   "cell_type": "code",
   "execution_count": 41,
   "metadata": {},
   "outputs": [
    {
     "data": {
      "text/plain": [
       "SelectFromModel(estimator=Ridge())"
      ]
     },
     "execution_count": 41,
     "metadata": {},
     "output_type": "execute_result"
    }
   ],
   "source": [
    "X_norm_wage = MinMaxScaler().fit_transform(X_wage)\n",
    "\n",
    "sel_ = SelectFromModel(Ridge())\n",
    "sel_.fit(X_norm_wage, y)\n"
   ]
  },
  {
   "cell_type": "code",
   "execution_count": 42,
   "metadata": {},
   "outputs": [
    {
     "data": {
      "image/png": "[encoded data removed]",
      "text/plain": [
       "<Figure size 720x720 with 1 Axes>"
      ]
     },
     "metadata": {
      "needs_background": "light"
     },
     "output_type": "display_data"
    }
   ],
   "source": [
    "importences_value = sel_.estimator_.coef_\n",
    "plt.figure(figsize=(10, 10))\n",
    "sns.barplot(y=X_wage.columns,\n",
    "            x=importences_value * X_norm_wage.std(axis=0), palette='copper')\n",
    "plt.xlabel('Importence')\n",
    "plt.title('Importence of Features in Wage prediction')\n",
    "plt.show()"
   ]
  },
  {
   "cell_type": "code",
   "execution_count": 43,
   "metadata": {},
   "outputs": [
    {
     "name": "stdout",
     "output_type": "stream",
     "text": [
      "total features: 40\n",
      "selected features: 3\n",
      "features with coefficients shrank to zero: 0\n"
     ]
    }
   ],
   "source": [
    "selected_feat = X_wage.columns[(sel_.get_support())]\n",
    "\n",
    "# let's print some stats\n",
    "print('total features: {}'.format((X_wage.shape[1])))\n",
    "print('selected features: {}'.format(len(selected_feat)))\n",
    "print('features with coefficients shrank to zero: {}'.format(\n",
    "    np.sum(sel_.estimator_.coef_ == 0)))\n"
   ]
  },
  {
   "cell_type": "code",
   "execution_count": 44,
   "metadata": {},
   "outputs": [
    {
     "data": {
      "text/plain": [
       "Index(['Overall', 'International Reputation', 'Value'], dtype='object')"
      ]
     },
     "execution_count": 44,
     "metadata": {},
     "output_type": "execute_result"
    }
   ],
   "source": [
    "selected_feat\n"
   ]
  },
  {
   "cell_type": "code",
   "execution_count": 45,
   "metadata": {},
   "outputs": [
    {
     "data": {
      "text/plain": [
       "(18207, 3)"
      ]
     },
     "execution_count": 45,
     "metadata": {},
     "output_type": "execute_result"
    }
   ],
   "source": [
    "X_model = X_wage[selected_feat]\n",
    "X_train, X_test, y_train, y_test = train_test_split(\n",
    "    X_model, y, test_size=.2, random_state=42)\n",
    "X_model.shape"
   ]
  },
  {
   "cell_type": "code",
   "execution_count": 46,
   "metadata": {},
   "outputs": [
    {
     "name": "stdout",
     "output_type": "stream",
     "text": [
      "==================================================\n",
      "<class 'sklearn.linear_model._coordinate_descent.Lasso'>\n",
      "r2_score :  0.8135645457987263\n",
      "==================================================\n",
      "<class 'sklearn.linear_model._base.LinearRegression'>\n",
      "r2_score :  0.8136072623887647\n",
      "==================================================\n",
      "<class 'sklearn.linear_model._ridge.Ridge'>\n",
      "r2_score :  0.8135905767523653\n"
     ]
    }
   ],
   "source": [
    "\n",
    "\n",
    "results = {}\n",
    "for r_m in [Lasso,LinearRegression, Ridge]:\n",
    "    model = Pipeline((\n",
    "        (\"standard_scaler\", StandardScaler()),\n",
    "        (\"poly\", PolynomialFeatures()),\n",
    "        (\"lin_reg\", r_m())\n",
    "    ))\n",
    "\n",
    "    model.fit(X_train, y_train)\n",
    "    y_test_pred = model.predict(X_test)\n",
    "    print('='*50)\n",
    "    print(r_m)\n",
    "    print('r2_score : ',r2_score(y_test, y_test_pred))"
   ]
  },
  {
   "cell_type": "markdown",
   "metadata": {},
   "source": [
    "We can try to plot our predictions, so we can visualize with real values"
   ]
  },
  {
   "cell_type": "code",
   "execution_count": 47,
   "metadata": {},
   "outputs": [
    {
     "data": {
      "image/png": "[encoded data removed]",
      "text/plain": [
       "<Figure size 720x576 with 1 Axes>"
      ]
     },
     "metadata": {
      "needs_background": "light"
     },
     "output_type": "display_data"
    }
   ],
   "source": [
    "\n",
    "x = np.arange(10)\n",
    "width = 0.35\n",
    "\n",
    "fig, ax = plt.subplots()\n",
    "rects1 = ax.barh(x - width/2, y_test_pred.reshape(1, -\n",
    "                 1).tolist()[0][:10], width, label='predictions')\n",
    "rects2 = ax.barh(x + width/2, y_test.reshape(1, -\n",
    "                 1).tolist()[0][:10], width, label='real values')\n",
    "\n",
    "\n",
    "ax.set_ylabel('Players')\n",
    "ax.set_xlabel('Wage')\n",
    "\n",
    "ax.set_title('Evaluatiob od predictions')\n",
    "ax.legend()\n",
    "ax.bar_label(rects1, padding=3)\n",
    "ax.bar_label(rects2, padding=3)\n",
    "fig.set_size_inches(10, 8)\n",
    "fig.tight_layout()\n",
    "\n",
    "plt.show()\n"
   ]
  }
 ],
 "metadata": {
  "kernelspec": {
   "display_name": "Python 3 (ipykernel)",
   "language": "python",
   "name": "python3"
  },
  "language_info": {
   "codemirror_mode": {
    "name": "ipython",
    "version": 3
   },
   "file_extension": ".py",
   "mimetype": "text/x-python",
   "name": "python",
   "nbconvert_exporter": "python",
   "pygments_lexer": "ipython3",
   "version": "3.8.10"
  }
 },
 "nbformat": 4,
 "nbformat_minor": 2
}
